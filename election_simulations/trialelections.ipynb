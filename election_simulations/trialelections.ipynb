{
 "cells": [
  {
   "cell_type": "markdown",
   "id": "285fb14e-a30b-4623-a349-a922c7f3644a",
   "metadata": {},
   "source": [
    "# Data analysis "
   ]
  },
  {
   "cell_type": "markdown",
   "id": "611c3365-8592-4c36-ac84-57d6e3e775e6",
   "metadata": {
    "jp-MarkdownHeadingCollapsed": true
   },
   "source": [
    "## Read in data"
   ]
  },
  {
   "cell_type": "code",
   "execution_count": 8,
   "id": "0b1065d6-9441-480f-afed-c4137ca8546d",
   "metadata": {},
   "outputs": [],
   "source": [
    "import pandas as pd\n",
    "import geopandas as gpd\n",
    "dayton_elections = pd.read_parquet(\"Dayton_elections.parquet\")\n",
    "dayton_population = pd.read_parquet(\"Dayton_pop.parquet\")\n",
    "dayton_precincts = gpd.read_parquet(\"Dayton_precincts.parquet\")\n",
    "dayton_vap = pd.read_parquet(\"Dayton_vap.parquet\")"
   ]
  },
  {
   "cell_type": "markdown",
   "id": "760b2e2d-8192-4d43-89a2-091ddec81d3f",
   "metadata": {
    "jp-MarkdownHeadingCollapsed": true
   },
   "source": [
    "## Use data to infer parameters"
   ]
  },
  {
   "cell_type": "code",
   "execution_count": 30,
   "id": "9c7c61e6-a9f1-4a61-b9f8-3c5b02ba0f1c",
   "metadata": {},
   "outputs": [],
   "source": [
    "w_percents = []\n",
    "for i in range(len(dayton_population)):\n",
    "    tot_pop = dayton_population['tot_pop_20'].iloc[i].item()\n",
    "    w_pop = dayton_population['white_pop_20'].iloc[i].item()\n",
    "    w_percents.append(w_pop/tot_pop *100)\n",
    "\n",
    "dayton_population['w_percent'] = w_percents\n",
    "average_w_percent = sum(w_percents)/len(dayton_population)"
   ]
  },
  {
   "cell_type": "code",
   "execution_count": 152,
   "id": "63570c1d-cb8c-429e-84f4-217a56d48dcd",
   "metadata": {},
   "outputs": [],
   "source": [
    "d_percents = []\n",
    "for i in range(len(dayton_elections)):\n",
    "    tot_turn = dayton_elections['pres_20_dem'].iloc[i].item() + dayton_elections['pres_20_rep'].iloc[i].item()\n",
    "    d_pop = dayton_elections['pres_20_dem'].iloc[i].item()\n",
    "    d_percents.append(d_pop/tot_turn *100)\n",
    "average_d_percent = sum(d_percents)/len(dayton_elections)"
   ]
  },
  {
   "cell_type": "code",
   "execution_count": 154,
   "id": "a9257586-8068-4394-9e69-91e4a0a0e9f9",
   "metadata": {},
   "outputs": [
    {
     "data": {
      "text/plain": [
       "41.114500623857374"
      ]
     },
     "execution_count": 154,
     "metadata": {},
     "output_type": "execute_result"
    }
   ],
   "source": [
    "average_w_percent"
   ]
  },
  {
   "cell_type": "code",
   "execution_count": 156,
   "id": "cba21120-4abb-4962-9482-f8cfb0baec2a",
   "metadata": {},
   "outputs": [
    {
     "data": {
      "text/plain": [
       "73.73250728641607"
      ]
     },
     "execution_count": 156,
     "metadata": {},
     "output_type": "execute_result"
    }
   ],
   "source": [
    "average_d_percent"
   ]
  },
  {
   "cell_type": "markdown",
   "id": "55dd310a-80d2-4255-bfd8-b6297a4df31f",
   "metadata": {},
   "source": [
    "# Run Election"
   ]
  },
  {
   "cell_type": "markdown",
   "id": "43f38a75-66b3-4c16-91ac-4bc19bcfe9f0",
   "metadata": {},
   "source": [
    "This will simulate an election for council. "
   ]
  },
  {
   "cell_type": "code",
   "execution_count": 231,
   "id": "5f483b5e-be3a-4e8d-85f6-ca65a88b0566",
   "metadata": {},
   "outputs": [],
   "source": [
    "from gerrychain import Graph\n",
    "import jsonlines as jl\n",
    "import votekit.elections as elec\n",
    "from votekit import PreferenceProfile\n",
    "import votekit.ballot_generator as bg\n",
    "from tqdm.notebook import tqdm"
   ]
  },
  {
   "cell_type": "markdown",
   "id": "e53a627b-e858-4381-aa02-f2d7980eed08",
   "metadata": {},
   "source": [
    "First, I just used parameters that are relatively random--I wanted to make the voter blocs representative of the population, but otherwise have no real preferences. This election slate of candidates is based off of the 2021 primary ballot. "
   ]
  },
  {
   "cell_type": "code",
   "execution_count": 234,
   "id": "4dc0b0b2-1523-4019-ad6b-3f6b4acf1529",
   "metadata": {},
   "outputs": [],
   "source": [
    "bloc_voter_prop = {\n",
    "    \"W\": average_w_percent/100,\n",
    "    \"C\": 1-average_w_percent/100\n",
    "}\n",
    "cohesion_parameters = {\n",
    "    \"W\": {\n",
    "        \"W\": 0.7,\n",
    "        \"C\": 0.3\n",
    "    },\n",
    "    \"C\": {\n",
    "        \"W\": 0.7,\n",
    "        \"C\": 0.3\n",
    "    }\n",
    "}\n",
    "alphas = {\n",
    "    \"W\": {\n",
    "        \"W\": 1,\n",
    "        \"C\": 1\n",
    "    },\n",
    "    \"C\": {\n",
    "        \"W\": 1,\n",
    "        \"C\": 1\n",
    "    }\n",
    "}\n",
    "slate_to_candidates = {\n",
    "    \"W\": [\n",
    "        \"W1\",\n",
    "        \"W2\",\n",
    "        \"W3\",\n",
    "        \"W4\"\n",
    "    ],\n",
    "    \"C\": [\n",
    "        \"C1\",\n",
    "        \"C2\",\n",
    "        \"C3\"\n",
    "    ]\n",
    "}"
   ]
  },
  {
   "cell_type": "code",
   "execution_count": 236,
   "id": "76bfe494-b3a6-47fc-b37d-0391c4f051df",
   "metadata": {},
   "outputs": [
    {
     "data": {
      "application/vnd.jupyter.widget-view+json": {
       "model_id": "4fe0556f148744cc9beb3dd39e3b756f",
       "version_major": 2,
       "version_minor": 0
      },
      "text/plain": [
       "  0%|          | 0/3000 [00:00<?, ?it/s]"
      ]
     },
     "metadata": {},
     "output_type": "display_data"
    }
   ],
   "source": [
    "with jl.open('election_results_defaults.jsonl', 'w') as writer:\n",
    "    for _ in tqdm(range(3000)): #running 30000 different instances of the election\n",
    "        profile = bg.slate_PlackettLuce.from_params(\n",
    "            bloc_voter_prop=bloc_voter_prop,\n",
    "            cohesion_parameters=cohesion_parameters,\n",
    "            alphas=alphas,\n",
    "            slate_to_candidates=slate_to_candidates\n",
    "        ).generate_profile(\n",
    "            number_of_ballots=10000\n",
    "        )\n",
    "        election = elec.STV(profile, m=4)\n",
    "\n",
    "        writer.write({\n",
    "            \"winners\": [winner for winner_set in election.get_elected() for winner in winner_set],\n",
    "        })"
   ]
  },
  {
   "cell_type": "code",
   "execution_count": 237,
   "id": "413ad98c-9070-44d9-a9ee-2654bfc0b398",
   "metadata": {},
   "outputs": [],
   "source": [
    "e_r = pd.read_json('election_results_defaults.jsonl', lines = True)"
   ]
  },
  {
   "cell_type": "markdown",
   "id": "7deee238-069c-4a3e-a8c1-937a191518d8",
   "metadata": {},
   "source": [
    "The idea behind this was just to see how the committee elections would look if Dayton elected all 4 representatives in the same year. \n",
    "\n",
    "One idea to change the data is to look at turnout. By looking at the pictures that Max has, we see that the western side of Dayton, which has a predominantly POC population, tends to vote Democrat while the eastern side, predominantly white, tends to vote Republican. So, we add that into our profile in the bloc.  "
   ]
  },
  {
   "cell_type": "code",
   "execution_count": 239,
   "id": "acf36b0c-a781-4430-885a-2a8c39cbdb20",
   "metadata": {},
   "outputs": [],
   "source": [
    "bloc_voter_prop = {\n",
    "    \"W\": 1-average_d_percent/100,\n",
    "    \"C\": average_d_percent/100\n",
    "}\n",
    "cohesion_parameters = {\n",
    "    \"W\": {\n",
    "        \"W\": 0.7,\n",
    "        \"C\": 0.3\n",
    "    },\n",
    "    \"C\": {\n",
    "        \"W\": 0.7,\n",
    "        \"C\": 0.3\n",
    "    }\n",
    "}\n",
    "alphas = {\n",
    "    \"W\": {\n",
    "        \"W\": 1,\n",
    "        \"C\": 1\n",
    "    },\n",
    "    \"C\": {\n",
    "        \"W\": 1,\n",
    "        \"C\": 1\n",
    "    }\n",
    "}\n",
    "slate_to_candidates = {\n",
    "    \"W\": [\n",
    "        \"W1\",\n",
    "        \"W2\",\n",
    "        \"W3\",\n",
    "        \"W4\"\n",
    "    ],\n",
    "    \"C\": [\n",
    "        \"C1\",\n",
    "        \"C2\",\n",
    "        \"C3\"\n",
    "    ]\n",
    "}"
   ]
  },
  {
   "cell_type": "code",
   "execution_count": 240,
   "id": "205f346b-5abe-4ecb-8f5c-f530305e6747",
   "metadata": {},
   "outputs": [
    {
     "data": {
      "application/vnd.jupyter.widget-view+json": {
       "model_id": "84736bd8b27d46a8a058ef2b2e66c9ec",
       "version_major": 2,
       "version_minor": 0
      },
      "text/plain": [
       "  0%|          | 0/3000 [00:00<?, ?it/s]"
      ]
     },
     "metadata": {},
     "output_type": "display_data"
    }
   ],
   "source": [
    "with jl.open('election_results_turnout.jsonl', 'w') as writer:\n",
    "    for _ in tqdm(range(3000)): #running 30000 different instances of the election\n",
    "        profile = bg.slate_PlackettLuce.from_params(\n",
    "            bloc_voter_prop=bloc_voter_prop,\n",
    "            cohesion_parameters=cohesion_parameters,\n",
    "            alphas=alphas,\n",
    "            slate_to_candidates=slate_to_candidates\n",
    "        ).generate_profile(\n",
    "            number_of_ballots=10000\n",
    "        )\n",
    "        election = elec.STV(profile, m=4)\n",
    "\n",
    "        writer.write({\n",
    "            \"winners\": [winner for winner_set in election.get_elected() for winner in winner_set],\n",
    "        })"
   ]
  },
  {
   "cell_type": "code",
   "execution_count": 241,
   "id": "b7020106-4e13-4a43-88a2-88c0dc1104d1",
   "metadata": {},
   "outputs": [],
   "source": [
    "e_r_t = pd.read_json('election_results_turnout.jsonl', lines=True)"
   ]
  },
  {
   "cell_type": "markdown",
   "id": "b4bf6fa0-4ab6-4210-ad17-eb2be68527b1",
   "metadata": {},
   "source": [
    "Now, we note that there seems to be a high preference for incumbents. As a result, we will change our alpha values to indicate this preference. "
   ]
  },
  {
   "cell_type": "code",
   "execution_count": 243,
   "id": "109f0289-3044-46c4-a681-259540855df3",
   "metadata": {},
   "outputs": [],
   "source": [
    "bloc_voter_prop = {\n",
    "    \"W\": average_w_percent/100,\n",
    "    \"C\": 1-average_w_percent/100\n",
    "}\n",
    "cohesion_parameters = {\n",
    "    \"W\": {\n",
    "        \"W\": 0.7,\n",
    "        \"C\": 0.3\n",
    "    },\n",
    "    \"C\": {\n",
    "        \"W\": 0.7,\n",
    "        \"C\": 0.3\n",
    "    }\n",
    "}\n",
    "alphas = {\n",
    "    \"W\": {\n",
    "        \"W\": .3,\n",
    "        \"C\": 1\n",
    "    },\n",
    "    \"C\": {\n",
    "        \"W\": .3,\n",
    "        \"C\": 1\n",
    "    }\n",
    "}\n",
    "slate_to_candidates = {\n",
    "    \"W\": [\n",
    "        \"W1\",\n",
    "        \"W2\",\n",
    "        \"W3\",\n",
    "        \"W4\"\n",
    "    ],\n",
    "    \"C\": [\n",
    "        \"C1\",\n",
    "        \"C2\",\n",
    "        \"C3\"\n",
    "    ]\n",
    "}"
   ]
  },
  {
   "cell_type": "code",
   "execution_count": 244,
   "id": "7da1215a-4f09-45a2-ab0a-0c62ace2586a",
   "metadata": {},
   "outputs": [
    {
     "data": {
      "application/vnd.jupyter.widget-view+json": {
       "model_id": "3d56499b38714bdeb7213b8019a9ecb4",
       "version_major": 2,
       "version_minor": 0
      },
      "text/plain": [
       "  0%|          | 0/3000 [00:00<?, ?it/s]"
      ]
     },
     "metadata": {},
     "output_type": "display_data"
    }
   ],
   "source": [
    "with jl.open('election_results_incumbents.jsonl', 'w') as writer:\n",
    "    for _ in tqdm(range(3000)): #running 30000 different instances of the election\n",
    "        profile = bg.slate_PlackettLuce.from_params(\n",
    "            bloc_voter_prop=bloc_voter_prop,\n",
    "            cohesion_parameters=cohesion_parameters,\n",
    "            alphas=alphas,\n",
    "            slate_to_candidates=slate_to_candidates\n",
    "        ).generate_profile(\n",
    "            number_of_ballots=10000\n",
    "        )\n",
    "        election = elec.STV(profile, m=4)\n",
    "\n",
    "        writer.write({\n",
    "            \"winners\": [winner for winner_set in election.get_elected() for winner in winner_set],\n",
    "        })"
   ]
  },
  {
   "cell_type": "markdown",
   "id": "41d28e9b-600f-4cc8-ae9f-37cf96ef1d1d",
   "metadata": {},
   "source": [
    "Now, let us look at changing the cohesion; we flip that of the \"C\" group."
   ]
  },
  {
   "cell_type": "code",
   "execution_count": 246,
   "id": "f7f8d8d0-515f-4794-9978-3b6a43c9ea76",
   "metadata": {},
   "outputs": [],
   "source": [
    "bloc_voter_prop = {\n",
    "    \"W\": average_w_percent/100,\n",
    "    \"C\": 1-average_w_percent/100\n",
    "}\n",
    "cohesion_parameters = {\n",
    "    \"W\": {\n",
    "        \"W\": 0.7,\n",
    "        \"C\": 0.3\n",
    "    },\n",
    "    \"C\": {\n",
    "        \"W\": 0.3,\n",
    "        \"C\": 0.7\n",
    "    }\n",
    "}\n",
    "alphas = {\n",
    "    \"W\": {\n",
    "        \"W\": .3,\n",
    "        \"C\": 1\n",
    "    },\n",
    "    \"C\": {\n",
    "        \"W\": .3,\n",
    "        \"C\": 1\n",
    "    }\n",
    "}\n",
    "slate_to_candidates = {\n",
    "    \"W\": [\n",
    "        \"W1\",\n",
    "        \"W2\",\n",
    "        \"W3\",\n",
    "        \"W4\"\n",
    "    ],\n",
    "    \"C\": [\n",
    "        \"C1\",\n",
    "        \"C2\",\n",
    "        \"C3\"\n",
    "    ]\n",
    "}"
   ]
  },
  {
   "cell_type": "code",
   "execution_count": 247,
   "id": "a92b900b-68f2-45ba-9f86-b629a59bca70",
   "metadata": {},
   "outputs": [
    {
     "data": {
      "application/vnd.jupyter.widget-view+json": {
       "model_id": "223b757f27be47c6ba208901c491cd97",
       "version_major": 2,
       "version_minor": 0
      },
      "text/plain": [
       "  0%|          | 0/3000 [00:00<?, ?it/s]"
      ]
     },
     "metadata": {},
     "output_type": "display_data"
    }
   ],
   "source": [
    "with jl.open('election_results_cohesion.jsonl', 'w') as writer:\n",
    "    for _ in tqdm(range(3000)): #running 30000 different instances of the election\n",
    "        profile = bg.slate_PlackettLuce.from_params(\n",
    "            bloc_voter_prop=bloc_voter_prop,\n",
    "            cohesion_parameters=cohesion_parameters,\n",
    "            alphas=alphas,\n",
    "            slate_to_candidates=slate_to_candidates\n",
    "        ).generate_profile(\n",
    "            number_of_ballots=10000\n",
    "        )\n",
    "        election = elec.STV(profile, m=4)\n",
    "\n",
    "        writer.write({\n",
    "            \"winners\": [winner for winner_set in election.get_elected() for winner in winner_set],\n",
    "        })"
   ]
  },
  {
   "cell_type": "markdown",
   "id": "4a15b976-1952-4a74-a18e-2b211cdf6f8b",
   "metadata": {},
   "source": [
    "The last thing that we will look at is in the setting that Dayton actually has--only electing 2 representatives. The primaries involve narrowing down to 4 candidates, hence the change in number of candidates. Notice that this balances the two groups being represented in terms of the candidate slate. "
   ]
  },
  {
   "cell_type": "code",
   "execution_count": 249,
   "id": "8c80f05c-5bd2-45cf-9bbb-547876a768d5",
   "metadata": {},
   "outputs": [],
   "source": [
    "bloc_voter_prop = {\n",
    "    \"W\": average_w_percent/100,\n",
    "    \"C\": 1-average_w_percent/100\n",
    "}\n",
    "cohesion_parameters = {\n",
    "    \"W\": {\n",
    "        \"W\": 0.7,\n",
    "        \"C\": 0.3\n",
    "    },\n",
    "    \"C\": {\n",
    "        \"W\": 0.7,\n",
    "        \"C\": 0.3\n",
    "    }\n",
    "}\n",
    "alphas = {\n",
    "    \"W\": {\n",
    "        \"W\": 1,\n",
    "        \"C\": 1\n",
    "    },\n",
    "    \"C\": {\n",
    "        \"W\": 1,\n",
    "        \"C\": 1\n",
    "    }\n",
    "}\n",
    "slate_to_candidates = {\n",
    "    \"W\": [\n",
    "        \"W1\",\n",
    "        \"W2\",\n",
    "    ],\n",
    "    \"C\": [\n",
    "        \"C1\",\n",
    "        \"C2\",\n",
    "    ]\n",
    "}"
   ]
  },
  {
   "cell_type": "code",
   "execution_count": 250,
   "id": "bba6eca7-fd1d-40a6-af51-4bea09f65474",
   "metadata": {},
   "outputs": [
    {
     "data": {
      "application/vnd.jupyter.widget-view+json": {
       "model_id": "fbb1e34ed6de4a2f9b71f62173a3fb54",
       "version_major": 2,
       "version_minor": 0
      },
      "text/plain": [
       "  0%|          | 0/3000 [00:00<?, ?it/s]"
      ]
     },
     "metadata": {},
     "output_type": "display_data"
    }
   ],
   "source": [
    "with jl.open('election_results_smaller.jsonl', 'w') as writer:\n",
    "    for _ in tqdm(range(3000)): #running 30000 different instances of the election\n",
    "        profile = bg.slate_PlackettLuce.from_params(\n",
    "            bloc_voter_prop=bloc_voter_prop,\n",
    "            cohesion_parameters=cohesion_parameters,\n",
    "            alphas=alphas,\n",
    "            slate_to_candidates=slate_to_candidates\n",
    "        ).generate_profile(\n",
    "            number_of_ballots=10000\n",
    "        )\n",
    "        election = elec.STV(profile, m=2)\n",
    "\n",
    "        writer.write({\n",
    "            \"winners\": [winner for winner_set in election.get_elected() for winner in winner_set],\n",
    "        })"
   ]
  },
  {
   "cell_type": "markdown",
   "id": "b5ea42fb-9de3-4dac-99ab-3dc78fb324ee",
   "metadata": {},
   "source": [
    "Then, for the fun of it all, I wanted to combine all of the edits I made to see how it reflects \"reality\" of the elections. "
   ]
  },
  {
   "cell_type": "code",
   "execution_count": 252,
   "id": "7673296e-3f2b-4ef9-a353-b1b19ad9ef2b",
   "metadata": {},
   "outputs": [],
   "source": [
    "bloc_voter_prop = {\n",
    "    \"W\": 1-average_d_percent/100,\n",
    "    \"C\": average_d_percent/100\n",
    "}\n",
    "cohesion_parameters = {\n",
    "    \"W\": {\n",
    "        \"W\": 0.7,\n",
    "        \"C\": 0.3\n",
    "    },\n",
    "    \"C\": {\n",
    "        \"W\": 0.3,\n",
    "        \"C\": 0.7\n",
    "    }\n",
    "}\n",
    "alphas = {\n",
    "    \"W\": {\n",
    "        \"W\": .3,\n",
    "        \"C\": 1\n",
    "    },\n",
    "    \"C\": {\n",
    "        \"W\": .3,\n",
    "        \"C\": 1\n",
    "    }\n",
    "}\n",
    "slate_to_candidates = {\n",
    "    \"W\": [\n",
    "        \"W1\",\n",
    "        \"W2\",\n",
    "    ],\n",
    "    \"C\": [\n",
    "        \"C1\",\n",
    "        \"C2\",\n",
    "    ]\n",
    "}"
   ]
  },
  {
   "cell_type": "code",
   "execution_count": 253,
   "id": "73746371-6aa7-49ba-b968-f658aa4dbfe8",
   "metadata": {},
   "outputs": [
    {
     "data": {
      "application/vnd.jupyter.widget-view+json": {
       "model_id": "a6dad7193a9d49e7a7a391112585f6b3",
       "version_major": 2,
       "version_minor": 0
      },
      "text/plain": [
       "  0%|          | 0/3000 [00:00<?, ?it/s]"
      ]
     },
     "metadata": {},
     "output_type": "display_data"
    },
    {
     "name": "stdout",
     "output_type": "stream",
     "text": [
      "Initial tiebreak was unsuccessful, performing random tiebreak\n"
     ]
    }
   ],
   "source": [
    "with jl.open('election_results_combination.jsonl', 'w') as writer:\n",
    "    for _ in tqdm(range(3000)): #running 3000 different instances of the election\n",
    "        profile = bg.slate_PlackettLuce.from_params(\n",
    "            bloc_voter_prop=bloc_voter_prop,\n",
    "            cohesion_parameters=cohesion_parameters,\n",
    "            alphas=alphas,\n",
    "            slate_to_candidates=slate_to_candidates\n",
    "        ).generate_profile(\n",
    "            number_of_ballots=10000\n",
    "        )\n",
    "        election = elec.STV(profile, m=2)\n",
    "\n",
    "        writer.write({\n",
    "            \"winners\": [winner for winner_set in election.get_elected() for winner in winner_set],\n",
    "        })"
   ]
  },
  {
   "cell_type": "code",
   "execution_count": null,
   "id": "f43aa17d-240c-4f1d-9a44-5f4ffaf9d4e8",
   "metadata": {},
   "outputs": [],
   "source": []
  }
 ],
 "metadata": {
  "kernelspec": {
   "display_name": ".venv",
   "language": "python",
   "name": ".venv"
  },
  "language_info": {
   "codemirror_mode": {
    "name": "ipython",
    "version": 3
   },
   "file_extension": ".py",
   "mimetype": "text/x-python",
   "name": "python",
   "nbconvert_exporter": "python",
   "pygments_lexer": "ipython3",
   "version": "3.11.5"
  }
 },
 "nbformat": 4,
 "nbformat_minor": 5
}
